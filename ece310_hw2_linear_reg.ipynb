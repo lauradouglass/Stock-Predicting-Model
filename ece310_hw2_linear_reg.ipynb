{
 "cells": [
  {
   "cell_type": "code",
   "execution_count": 33,
   "id": "1a356bc4-8336-42e4-8813-41a7fc9f79e1",
   "metadata": {},
   "outputs": [],
   "source": [
    "#necesarry imports\n",
    "import joblib\n",
    "import pickle\n",
    "import math\n",
    "import statistics\n",
    "import pandas as pd \n",
    "import numpy as np\n",
    "import matplotlib.pyplot as plt\n",
    "from sklearn.preprocessing import StandardScaler, OneHotEncoder\n",
    "from sklearn.pipeline import Pipeline \n",
    "from sklearn.impute import SimpleImputer\n",
    "from sklearn.model_selection import train_test_split\n",
    "from sklearn.compose import ColumnTransformer\n",
    "from sklearn.linear_model import LinearRegression\n",
    "from sklearn.metrics import mean_squared_error\n",
    "from sklearn.linear_model import ElasticNetCV\n",
    "from sklearn.linear_model import ElasticNet"
   ]
  },
  {
   "cell_type": "code",
   "execution_count": 34,
   "id": "f3b257da-2ebb-4e0d-8095-194f7d914185",
   "metadata": {},
   "outputs": [],
   "source": [
    "data = pd.read_pickle('appml-assignment1-dataset-v2.pkl')"
   ]
  },
  {
   "cell_type": "code",
   "execution_count": 35,
   "id": "8558f06f-c20b-469d-b0dc-b471ef420071",
   "metadata": {},
   "outputs": [],
   "source": [
    "#split data into features (X) and targets (y)"
   ]
  },
  {
   "cell_type": "code",
   "execution_count": 36,
   "id": "10ef7ebd-22c0-423f-a3b7-ea151bc8ef2b",
   "metadata": {},
   "outputs": [],
   "source": [
    "X = data['X']\n",
    "y = data['y']\n",
    "\n",
    "#manipulate the date for the pipeline later\n",
    "X['date'] = pd.to_datetime(X['date'])\n",
    "X['day_of_week'] = X['date'].dt.dayofweek\n",
    "X['hour_of_day'] = X['date'].dt.hour"
   ]
  },
  {
   "cell_type": "code",
   "execution_count": 37,
   "id": "245a78e7-f024-47bc-ba75-0534baf34ad5",
   "metadata": {},
   "outputs": [],
   "source": [
    "#train-test split"
   ]
  },
  {
   "cell_type": "code",
   "execution_count": 38,
   "id": "25e2c968-aadd-45c1-9f53-cd4716548ab9",
   "metadata": {},
   "outputs": [],
   "source": [
    "X_train, X_test, y_train, y_test = train_test_split(X, y, test_size=0.2, random_state=42)"
   ]
  },
  {
   "cell_type": "code",
   "execution_count": 39,
   "id": "e217a024-061c-46e7-9b11-8c617d9d8de7",
   "metadata": {},
   "outputs": [],
   "source": [
    "#preprocessing pipepline"
   ]
  },
  {
   "cell_type": "code",
   "execution_count": 40,
   "id": "0df3836c-43f5-41c4-8a30-6ccb17e44793",
   "metadata": {},
   "outputs": [],
   "source": [
    "numerical_features = [col for col in X.columns if X[col].dtype in [int, float]]\n",
    "categorical_features = ['day_of_week', 'hour_of_day']\n",
    "\n",
    "numerical_transformer = Pipeline(steps=[\n",
    "    ('imputer', SimpleImputer(strategy='mean')),\n",
    "    ('std_scaler', StandardScaler())\n",
    "])\n",
    "\n",
    "categorical_transformer = Pipeline(steps=[\n",
    "    ('onehot', OneHotEncoder(handle_unknown='ignore'))\n",
    "])\n",
    "\n",
    "preprocessor = ColumnTransformer(\n",
    "    transformers=[\n",
    "        ('num', numerical_transformer, numerical_features),\n",
    "        ('cat', categorical_transformer, categorical_features)\n",
    "    ])\n",
    "\n",
    "preprocessing_pipeline = Pipeline(steps=[\n",
    "    ('preprocessor', preprocessor)\n",
    "])\n",
    "\n",
    "X_train_preprocessed = preprocessing_pipeline.fit_transform(X_train)\n",
    "X_test_preprocessed = preprocessing_pipeline.transform(X_test)"
   ]
  },
  {
   "cell_type": "code",
   "execution_count": 41,
   "id": "1b11a548-9cbc-44f2-85ec-b77749fa36dd",
   "metadata": {},
   "outputs": [],
   "source": [
    "#linear regression "
   ]
  },
  {
   "cell_type": "code",
   "execution_count": 42,
   "id": "d8e25aaa-c939-4f2f-a06b-843ee6d47c17",
   "metadata": {},
   "outputs": [
    {
     "name": "stdout",
     "output_type": "stream",
     "text": [
      "0.000883083055820037\n",
      "0.0007795767732139419\n"
     ]
    }
   ],
   "source": [
    "model = LinearRegression()\n",
    "model.fit(X_train_preprocessed, y_train)\n",
    "y_pred = model.predict(X_test_preprocessed)\n",
    "\n",
    "#rmse\n",
    "y_prediction = model.predict(X_test_preprocessed)\n",
    "eval = np.sqrt(mean_squared_error(y_test, y_prediction))\n",
    "print(eval)\n",
    "\n",
    "y_prediction2 = model.predict(X_train_preprocessed)\n",
    "eval2 = np.sqrt(mean_squared_error(y_train, y_prediction2))\n",
    "print(eval2)"
   ]
  },
  {
   "cell_type": "code",
   "execution_count": 43,
   "id": "43dea150-8c31-4fa4-8de4-d73c4e01dc7c",
   "metadata": {},
   "outputs": [],
   "source": [
    "#save model and pipeline -- DONT RUN UNTIL WE LIKE OUR EVAL VAL"
   ]
  },
  {
   "cell_type": "code",
   "execution_count": 45,
   "id": "c81ddf27-288b-4a38-91a9-59bd0c4a9cd1",
   "metadata": {},
   "outputs": [
    {
     "data": {
      "text/plain": [
       "['pipeline1.pkl']"
      ]
     },
     "execution_count": 45,
     "metadata": {},
     "output_type": "execute_result"
    }
   ],
   "source": [
    "joblib.dump(model, 'model1.pkl')\n",
    "joblib.dump(preprocessing_pipeline, 'pipeline1.pkl')"
   ]
  },
  {
   "cell_type": "code",
   "execution_count": null,
   "id": "b98ad097-eb20-4afc-9aa2-3a6062b4265d",
   "metadata": {},
   "outputs": [],
   "source": []
  }
 ],
 "metadata": {
  "kernelspec": {
   "display_name": "Python 3 (ipykernel)",
   "language": "python",
   "name": "python3"
  },
  "language_info": {
   "codemirror_mode": {
    "name": "ipython",
    "version": 3
   },
   "file_extension": ".py",
   "mimetype": "text/x-python",
   "name": "python",
   "nbconvert_exporter": "python",
   "pygments_lexer": "ipython3",
   "version": "3.11.5"
  }
 },
 "nbformat": 4,
 "nbformat_minor": 5
}
